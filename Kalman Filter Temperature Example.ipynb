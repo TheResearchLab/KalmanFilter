{
 "cells": [
  {
   "cell_type": "code",
   "execution_count": 1,
   "metadata": {},
   "outputs": [
    {
     "name": "stdout",
     "output_type": "stream",
     "text": [
      "0.3333333333333333 70.33333333333333 1.3333333333333335\n",
      "0.25 70.5 1.0\n",
      "0.2 70.4 0.8\n",
      "0.16666666666666669 71.0 0.6666666666666666\n"
     ]
    }
   ],
   "source": [
    "#True Value of temperature is 72 degrees\n",
    "initEst = 68\n",
    "initErrEst = 2\n",
    "errMea = 4 #usually this doesn't change unless the condition underwhich the measure is being taken changes\n",
    "\n",
    "data = [75,71,70,74]\n",
    "\n",
    "def kalman_filter(initErrEst,errMea,initEst,data):\n",
    "    for i in range(len(data)):\n",
    "        \n",
    "        #Calculate Error in Kalman Gain\n",
    "        kg = initErrEst/(initErrEst + errMea) if i == 0 else errEst/(errEst + errMea)\n",
    "        \n",
    "        #Calculate the new estimate\n",
    "        est = initEst + kg*(data[i]-initEst) if i == 0 else est + kg*(data[i]-est)\n",
    "        \n",
    "        #Calculate Error in Estimate\n",
    "        errEst = (1-kg)*(initErrEst) if i == 0 else (1-kg)*(errEst)\n",
    "        print(kg,est,errEst)\n",
    "         \n",
    "        \n",
    "        \n",
    "kalman_filter(initErrEst,errMea,initEst,data)"
   ]
  }
 ],
 "metadata": {
  "kernelspec": {
   "display_name": "Python 3",
   "language": "python",
   "name": "python3"
  },
  "language_info": {
   "codemirror_mode": {
    "name": "ipython",
    "version": 3
   },
   "file_extension": ".py",
   "mimetype": "text/x-python",
   "name": "python",
   "nbconvert_exporter": "python",
   "pygments_lexer": "ipython3",
   "version": "3.8.5"
  }
 },
 "nbformat": 4,
 "nbformat_minor": 4
}
